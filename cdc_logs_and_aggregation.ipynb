{
 "cells": [
  {
   "cell_type": "code",
   "execution_count": 0,
   "metadata": {
    "application/vnd.databricks.v1+cell": {
     "cellMetadata": {
      "byteLimit": 2048000,
      "rowLimit": 10000
     },
     "inputWidgets": {},
     "nuid": "9f4c4538-9a11-4347-a4c0-b53af54621e7",
     "showTitle": false,
     "tableResultSettingsMap": {},
     "title": ""
    }
   },
   "outputs": [],
   "source": [
    "# Read CDC stream\n",
    "cdc_stream = spark.readStream.format(\"delta\") \\\n",
    "    .option(\"readChangeFeed\", \"true\") \\\n",
    "    .table(\"incremental_load.default.raw_upi_transactions\")\n",
    "\n",
    "# Display CDC changes\n",
    "query = cdc_stream.select(\n",
    "    \"transaction_id\",\n",
    "    \"upi_id\",\n",
    "    \"merchant_id\",\n",
    "    \"transaction_amount\",\n",
    "    \"transaction_timestamp\",\n",
    "    \"transaction_status\",\n",
    "    \"_change_type\",  # CDC change type u will see update-preimage & update-postimage accordingly \n",
    "    \"_commit_version\",\n",
    "    \"_commit_timestamp\"\n",
    ").writeStream.format(\"console\") \\\n",
    "    .outputMode(\"append\") \\\n",
    "    .start()\n",
    "\n",
    "query.awaitTermination()"
   ]
  },
  {
   "cell_type": "code",
   "execution_count": 0,
   "metadata": {
    "application/vnd.databricks.v1+cell": {
     "cellMetadata": {
      "byteLimit": 2048000,
      "rowLimit": 10000
     },
     "inputWidgets": {},
     "nuid": "8b37f5c4-2ca5-4576-b16d-7943c4251a3d",
     "showTitle": false,
     "tableResultSettingsMap": {},
     "title": ""
    }
   },
   "outputs": [],
   "source": [
    "from pyspark.sql.functions import col, sum, when\n",
    "from delta.tables import DeltaTable\n",
    "\n",
    "# Target Delta table for aggregated data\n",
    "aggregated_table_name = \"incremental_load.default.aggregated_upi_transactions\"\n",
    "raw_table_name = \"incremental_load.default.raw_upi_transactions_v1\"\n",
    "\n",
    "spark.sql(f\"\"\"\n",
    "CREATE TABLE IF NOT EXISTS {aggregated_table_name} (\n",
    "    merchant_id STRING,\n",
    "    total_sales DOUBLE,\n",
    "    total_refunds DOUBLE,\n",
    "    net_sales DOUBLE\n",
    ")\n",
    "USING delta\n",
    "\"\"\")\n",
    "\n",
    "# Define aggregation logic and merge into the target table\n",
    "def process_aggregation(batch_df, batch_id):\n",
    "    print(f\"Processing batch: {batch_id}\")\n",
    "\n",
    "    # Perform aggregation\n",
    "    aggregated_df = (\n",
    "        batch_df\n",
    "        .filter(col(\"_change_type\").isin(\"insert\", \"update_postimage\"))  # Handle inserts and updates\n",
    "        .groupBy(\"merchant_id\")\n",
    "        .agg(\n",
    "            sum(when(col(\"transaction_status\") == \"completed\", col(\"transaction_amount\")).otherwise(0)).alias(\"total_sales\"),\n",
    "            sum(when(col(\"transaction_status\") == \"refunded\", -col(\"transaction_amount\")).otherwise(0)).alias(\"total_refunds\")\n",
    "        )\n",
    "        .withColumn(\"net_sales\", col(\"total_sales\") + col(\"total_refunds\"))\n",
    "    )\n",
    "\n",
    "    # Merge aggregated data into the target table\n",
    "    target_table = DeltaTable.forName(spark, aggregated_table_name)\n",
    "    target_table.alias(\"target\").merge(\n",
    "        aggregated_df.alias(\"source\"),\n",
    "        \"target.merchant_id = source.merchant_id\"\n",
    "    ).whenMatchedUpdate(set={\n",
    "        \"total_sales\": \"target.total_sales + source.total_sales\",\n",
    "        \"total_refunds\": \"target.total_refunds + source.total_refunds\",\n",
    "        \"net_sales\": \"target.net_sales + source.net_sales\"\n",
    "    }).whenNotMatchedInsertAll().execute()\n",
    "\n",
    "# Read CDC changes and apply aggregation logic\n",
    "cdc_stream = spark.readStream.format(\"delta\").option(\"readChangeFeed\", \"true\").table(raw_table_name)\n",
    "print(\"Read Stream Started.........\")\n",
    "\n",
    "cdc_stream.writeStream.foreachBatch(process_aggregation).outputMode(\"update\").start().awaitTermination()\n",
    "print(\"Write Stream Started.........\")"
   ]
  }
 ],
 "metadata": {
  "application/vnd.databricks.v1+notebook": {
   "computePreferences": null,
   "dashboards": [],
   "environmentMetadata": {
    "base_environment": "",
    "environment_version": "2"
   },
   "language": "python",
   "notebookMetadata": {
    "pythonIndentUnit": 4
   },
   "notebookName": "cdc_logs_and_aggregation",
   "widgets": {}
  },
  "language_info": {
   "name": "python"
  }
 },
 "nbformat": 4,
 "nbformat_minor": 0
}
